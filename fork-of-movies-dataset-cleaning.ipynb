{
 "cells": [
  {
   "cell_type": "code",
   "execution_count": 1,
   "id": "17a1d62a",
   "metadata": {
    "_cell_guid": "b1076dfc-b9ad-4769-8c92-a6c4dae69d19",
    "_uuid": "8f2839f25d086af736a60e9eeb907d3b93b6e0e5",
    "execution": {
     "iopub.execute_input": "2024-11-12T11:32:03.397577Z",
     "iopub.status.busy": "2024-11-12T11:32:03.396376Z",
     "iopub.status.idle": "2024-11-12T11:32:04.408228Z",
     "shell.execute_reply": "2024-11-12T11:32:04.406407Z"
    },
    "papermill": {
     "duration": 1.035731,
     "end_time": "2024-11-12T11:32:04.411943",
     "exception": false,
     "start_time": "2024-11-12T11:32:03.376212",
     "status": "completed"
    },
    "tags": []
   },
   "outputs": [
    {
     "name": "stdout",
     "output_type": "stream",
     "text": [
      "/kaggle/input/movies-dataset-for-feature-extracion-prediction/movies.csv\n"
     ]
    }
   ],
   "source": [
    "# This Python 3 environment comes with many helpful analytics libraries installed\n",
    "# It is defined by the kaggle/python Docker image: https://github.com/kaggle/docker-python\n",
    "# For example, here's several helpful packages to load\n",
    "\n",
    "import numpy as np # linear algebra\n",
    "import pandas as pd # data processing, CSV file I/O (e.g. pd.read_csv)\n",
    "\n",
    "# Input data files are available in the read-only \"../input/\" directory\n",
    "# For example, running this (by clicking run or pressing Shift+Enter) will list all files under the input directory\n",
    "\n",
    "import os\n",
    "for dirname, _, filenames in os.walk('/kaggle/input'):\n",
    "    for filename in filenames:\n",
    "        print(os.path.join(dirname, filename))\n",
    "\n",
    "# You can write up to 20GB to the current directory (/kaggle/working/) that gets preserved as output when you create a version using \"Save & Run All\" \n",
    "# You can also write temporary files to /kaggle/temp/, but they won't be saved outside of the current session"
   ]
  },
  {
   "cell_type": "code",
   "execution_count": 2,
   "id": "9008ce9d",
   "metadata": {
    "execution": {
     "iopub.execute_input": "2024-11-12T11:32:04.449910Z",
     "iopub.status.busy": "2024-11-12T11:32:04.449277Z",
     "iopub.status.idle": "2024-11-12T11:32:04.608635Z",
     "shell.execute_reply": "2024-11-12T11:32:04.607177Z"
    },
    "papermill": {
     "duration": 0.182468,
     "end_time": "2024-11-12T11:32:04.611587",
     "exception": false,
     "start_time": "2024-11-12T11:32:04.429119",
     "status": "completed"
    },
    "tags": []
   },
   "outputs": [
    {
     "data": {
      "text/html": [
       "<div>\n",
       "<style scoped>\n",
       "    .dataframe tbody tr th:only-of-type {\n",
       "        vertical-align: middle;\n",
       "    }\n",
       "\n",
       "    .dataframe tbody tr th {\n",
       "        vertical-align: top;\n",
       "    }\n",
       "\n",
       "    .dataframe thead th {\n",
       "        text-align: right;\n",
       "    }\n",
       "</style>\n",
       "<table border=\"1\" class=\"dataframe\">\n",
       "  <thead>\n",
       "    <tr style=\"text-align: right;\">\n",
       "      <th></th>\n",
       "      <th>MOVIES</th>\n",
       "      <th>YEAR</th>\n",
       "      <th>GENRE</th>\n",
       "      <th>RATING</th>\n",
       "      <th>ONE-LINE</th>\n",
       "      <th>STARS</th>\n",
       "      <th>VOTES</th>\n",
       "      <th>RunTime</th>\n",
       "      <th>Gross</th>\n",
       "    </tr>\n",
       "  </thead>\n",
       "  <tbody>\n",
       "    <tr>\n",
       "      <th>0</th>\n",
       "      <td>Blood Red Sky</td>\n",
       "      <td>(2021)</td>\n",
       "      <td>\\nAction, Horror, Thriller</td>\n",
       "      <td>6.1</td>\n",
       "      <td>\\nA woman with a mysterious illness is forced ...</td>\n",
       "      <td>\\n    Director:\\nPeter Thorwarth\\n| \\n    Star...</td>\n",
       "      <td>21,062</td>\n",
       "      <td>121.0</td>\n",
       "      <td>NaN</td>\n",
       "    </tr>\n",
       "    <tr>\n",
       "      <th>1</th>\n",
       "      <td>Masters of the Universe: Revelation</td>\n",
       "      <td>(2021– )</td>\n",
       "      <td>\\nAnimation, Action, Adventure</td>\n",
       "      <td>5.0</td>\n",
       "      <td>\\nThe war for Eternia begins again in what may...</td>\n",
       "      <td>\\n            \\n    Stars:\\nChris Wood, \\nSara...</td>\n",
       "      <td>17,870</td>\n",
       "      <td>25.0</td>\n",
       "      <td>NaN</td>\n",
       "    </tr>\n",
       "    <tr>\n",
       "      <th>2</th>\n",
       "      <td>The Walking Dead</td>\n",
       "      <td>(2010–2022)</td>\n",
       "      <td>\\nDrama, Horror, Thriller</td>\n",
       "      <td>8.2</td>\n",
       "      <td>\\nSheriff Deputy Rick Grimes wakes up from a c...</td>\n",
       "      <td>\\n            \\n    Stars:\\nAndrew Lincoln, \\n...</td>\n",
       "      <td>885,805</td>\n",
       "      <td>44.0</td>\n",
       "      <td>NaN</td>\n",
       "    </tr>\n",
       "    <tr>\n",
       "      <th>3</th>\n",
       "      <td>Rick and Morty</td>\n",
       "      <td>(2013– )</td>\n",
       "      <td>\\nAnimation, Adventure, Comedy</td>\n",
       "      <td>9.2</td>\n",
       "      <td>\\nAn animated series that follows the exploits...</td>\n",
       "      <td>\\n            \\n    Stars:\\nJustin Roiland, \\n...</td>\n",
       "      <td>414,849</td>\n",
       "      <td>23.0</td>\n",
       "      <td>NaN</td>\n",
       "    </tr>\n",
       "    <tr>\n",
       "      <th>4</th>\n",
       "      <td>Army of Thieves</td>\n",
       "      <td>(2021)</td>\n",
       "      <td>\\nAction, Crime, Horror</td>\n",
       "      <td>NaN</td>\n",
       "      <td>\\nA prequel, set before the events of Army of ...</td>\n",
       "      <td>\\n    Director:\\nMatthias Schweighöfer\\n| \\n  ...</td>\n",
       "      <td>NaN</td>\n",
       "      <td>NaN</td>\n",
       "      <td>NaN</td>\n",
       "    </tr>\n",
       "  </tbody>\n",
       "</table>\n",
       "</div>"
      ],
      "text/plain": [
       "                                MOVIES         YEAR  \\\n",
       "0                        Blood Red Sky       (2021)   \n",
       "1  Masters of the Universe: Revelation     (2021– )   \n",
       "2                     The Walking Dead  (2010–2022)   \n",
       "3                       Rick and Morty     (2013– )   \n",
       "4                      Army of Thieves       (2021)   \n",
       "\n",
       "                                        GENRE  RATING  \\\n",
       "0      \\nAction, Horror, Thriller                 6.1   \n",
       "1  \\nAnimation, Action, Adventure                 5.0   \n",
       "2       \\nDrama, Horror, Thriller                 8.2   \n",
       "3  \\nAnimation, Adventure, Comedy                 9.2   \n",
       "4         \\nAction, Crime, Horror                 NaN   \n",
       "\n",
       "                                            ONE-LINE  \\\n",
       "0  \\nA woman with a mysterious illness is forced ...   \n",
       "1  \\nThe war for Eternia begins again in what may...   \n",
       "2  \\nSheriff Deputy Rick Grimes wakes up from a c...   \n",
       "3  \\nAn animated series that follows the exploits...   \n",
       "4  \\nA prequel, set before the events of Army of ...   \n",
       "\n",
       "                                               STARS    VOTES  RunTime Gross  \n",
       "0  \\n    Director:\\nPeter Thorwarth\\n| \\n    Star...   21,062    121.0   NaN  \n",
       "1  \\n            \\n    Stars:\\nChris Wood, \\nSara...   17,870     25.0   NaN  \n",
       "2  \\n            \\n    Stars:\\nAndrew Lincoln, \\n...  885,805     44.0   NaN  \n",
       "3  \\n            \\n    Stars:\\nJustin Roiland, \\n...  414,849     23.0   NaN  \n",
       "4  \\n    Director:\\nMatthias Schweighöfer\\n| \\n  ...      NaN      NaN   NaN  "
      ]
     },
     "execution_count": 2,
     "metadata": {},
     "output_type": "execute_result"
    }
   ],
   "source": [
    "movies_df= pd.read_csv(\"/kaggle/input/movies-dataset-for-feature-extracion-prediction/movies.csv\")\n",
    "movies_df.head(5)"
   ]
  },
  {
   "cell_type": "code",
   "execution_count": 3,
   "id": "d4760130",
   "metadata": {
    "execution": {
     "iopub.execute_input": "2024-11-12T11:32:04.647751Z",
     "iopub.status.busy": "2024-11-12T11:32:04.647215Z",
     "iopub.status.idle": "2024-11-12T11:32:04.654983Z",
     "shell.execute_reply": "2024-11-12T11:32:04.653857Z"
    },
    "papermill": {
     "duration": 0.028934,
     "end_time": "2024-11-12T11:32:04.657506",
     "exception": false,
     "start_time": "2024-11-12T11:32:04.628572",
     "status": "completed"
    },
    "tags": []
   },
   "outputs": [
    {
     "data": {
      "text/plain": [
       "(9999, 9)"
      ]
     },
     "execution_count": 3,
     "metadata": {},
     "output_type": "execute_result"
    }
   ],
   "source": [
    "# total rows and columns\n",
    "movies_df.shape"
   ]
  },
  {
   "cell_type": "code",
   "execution_count": 4,
   "id": "278001ee",
   "metadata": {
    "execution": {
     "iopub.execute_input": "2024-11-12T11:32:04.693537Z",
     "iopub.status.busy": "2024-11-12T11:32:04.693028Z",
     "iopub.status.idle": "2024-11-12T11:32:04.700360Z",
     "shell.execute_reply": "2024-11-12T11:32:04.699095Z"
    },
    "papermill": {
     "duration": 0.028651,
     "end_time": "2024-11-12T11:32:04.703034",
     "exception": false,
     "start_time": "2024-11-12T11:32:04.674383",
     "status": "completed"
    },
    "tags": []
   },
   "outputs": [],
   "source": [
    "## copy data\n",
    "df = movies_df.copy()"
   ]
  },
  {
   "cell_type": "code",
   "execution_count": 5,
   "id": "d7fc6396",
   "metadata": {
    "execution": {
     "iopub.execute_input": "2024-11-12T11:32:04.739100Z",
     "iopub.status.busy": "2024-11-12T11:32:04.738640Z",
     "iopub.status.idle": "2024-11-12T11:32:04.776896Z",
     "shell.execute_reply": "2024-11-12T11:32:04.775359Z"
    },
    "papermill": {
     "duration": 0.059565,
     "end_time": "2024-11-12T11:32:04.779992",
     "exception": false,
     "start_time": "2024-11-12T11:32:04.720427",
     "status": "completed"
    },
    "tags": []
   },
   "outputs": [
    {
     "name": "stdout",
     "output_type": "stream",
     "text": [
      "<class 'pandas.core.frame.DataFrame'>\n",
      "RangeIndex: 9999 entries, 0 to 9998\n",
      "Data columns (total 9 columns):\n",
      " #   Column    Non-Null Count  Dtype  \n",
      "---  ------    --------------  -----  \n",
      " 0   MOVIES    9999 non-null   object \n",
      " 1   YEAR      9355 non-null   object \n",
      " 2   GENRE     9919 non-null   object \n",
      " 3   RATING    8179 non-null   float64\n",
      " 4   ONE-LINE  9999 non-null   object \n",
      " 5   STARS     9999 non-null   object \n",
      " 6   VOTES     8179 non-null   object \n",
      " 7   RunTime   7041 non-null   float64\n",
      " 8   Gross     460 non-null    object \n",
      "dtypes: float64(2), object(7)\n",
      "memory usage: 703.2+ KB\n"
     ]
    }
   ],
   "source": [
    "# info\n",
    "df.info()"
   ]
  },
  {
   "cell_type": "code",
   "execution_count": 6,
   "id": "91d4a231",
   "metadata": {
    "execution": {
     "iopub.execute_input": "2024-11-12T11:32:04.817880Z",
     "iopub.status.busy": "2024-11-12T11:32:04.817417Z",
     "iopub.status.idle": "2024-11-12T11:32:04.834784Z",
     "shell.execute_reply": "2024-11-12T11:32:04.833377Z"
    },
    "papermill": {
     "duration": 0.039468,
     "end_time": "2024-11-12T11:32:04.837859",
     "exception": false,
     "start_time": "2024-11-12T11:32:04.798391",
     "status": "completed"
    },
    "tags": []
   },
   "outputs": [
    {
     "data": {
      "text/plain": [
       "MOVIES         0\n",
       "YEAR         644\n",
       "GENRE         80\n",
       "RATING      1820\n",
       "ONE-LINE       0\n",
       "STARS          0\n",
       "VOTES       1820\n",
       "RunTime     2958\n",
       "Gross       9539\n",
       "dtype: int64"
      ]
     },
     "execution_count": 6,
     "metadata": {},
     "output_type": "execute_result"
    }
   ],
   "source": [
    "# Check null values\n",
    "df.isna().sum()"
   ]
  },
  {
   "cell_type": "code",
   "execution_count": 7,
   "id": "ed8b1929",
   "metadata": {
    "execution": {
     "iopub.execute_input": "2024-11-12T11:32:04.876179Z",
     "iopub.status.busy": "2024-11-12T11:32:04.875760Z",
     "iopub.status.idle": "2024-11-12T11:32:04.894969Z",
     "shell.execute_reply": "2024-11-12T11:32:04.893563Z"
    },
    "papermill": {
     "duration": 0.041942,
     "end_time": "2024-11-12T11:32:04.897687",
     "exception": false,
     "start_time": "2024-11-12T11:32:04.855745",
     "status": "completed"
    },
    "tags": []
   },
   "outputs": [
    {
     "data": {
      "text/plain": [
       "MOVIES       0.000000\n",
       "YEAR         6.440644\n",
       "GENRE        0.800080\n",
       "RATING      18.201820\n",
       "ONE-LINE     0.000000\n",
       "STARS        0.000000\n",
       "VOTES       18.201820\n",
       "RunTime     29.582958\n",
       "Gross       95.399540\n",
       "dtype: float64"
      ]
     },
     "execution_count": 7,
     "metadata": {},
     "output_type": "execute_result"
    }
   ],
   "source": [
    "# check percentage of null data\n",
    "100*df.isnull().sum()/df.shape[0]"
   ]
  },
  {
   "cell_type": "code",
   "execution_count": 8,
   "id": "d33b9445",
   "metadata": {
    "execution": {
     "iopub.execute_input": "2024-11-12T11:32:04.935672Z",
     "iopub.status.busy": "2024-11-12T11:32:04.935229Z",
     "iopub.status.idle": "2024-11-12T11:32:04.963853Z",
     "shell.execute_reply": "2024-11-12T11:32:04.962613Z"
    },
    "papermill": {
     "duration": 0.050527,
     "end_time": "2024-11-12T11:32:04.966515",
     "exception": false,
     "start_time": "2024-11-12T11:32:04.915988",
     "status": "completed"
    },
    "tags": []
   },
   "outputs": [
    {
     "data": {
      "text/plain": [
       "431"
      ]
     },
     "execution_count": 8,
     "metadata": {},
     "output_type": "execute_result"
    }
   ],
   "source": [
    "# check duplicates\n",
    "df.duplicated().sum()\n"
   ]
  },
  {
   "cell_type": "markdown",
   "id": "838fc099",
   "metadata": {
    "papermill": {
     "duration": 0.01712,
     "end_time": "2024-11-12T11:32:05.001410",
     "exception": false,
     "start_time": "2024-11-12T11:32:04.984290",
     "status": "completed"
    },
    "tags": []
   },
   "source": [
    "# Data Cleaning"
   ]
  },
  {
   "cell_type": "code",
   "execution_count": 9,
   "id": "50b31677",
   "metadata": {
    "execution": {
     "iopub.execute_input": "2024-11-12T11:32:05.039092Z",
     "iopub.status.busy": "2024-11-12T11:32:05.038641Z",
     "iopub.status.idle": "2024-11-12T11:32:05.048707Z",
     "shell.execute_reply": "2024-11-12T11:32:05.047357Z"
    },
    "papermill": {
     "duration": 0.031374,
     "end_time": "2024-11-12T11:32:05.051234",
     "exception": false,
     "start_time": "2024-11-12T11:32:05.019860",
     "status": "completed"
    },
    "tags": []
   },
   "outputs": [
    {
     "data": {
      "text/plain": [
       "Index(['movies', 'year', 'genre', 'rating', 'one-line', 'stars', 'votes',\n",
       "       'runtime', 'gross'],\n",
       "      dtype='object')"
      ]
     },
     "execution_count": 9,
     "metadata": {},
     "output_type": "execute_result"
    }
   ],
   "source": [
    "# remname column name to small and remove all talling splaces \n",
    "df.columns = df.columns.str.strip().str.lower()\n",
    "df.columns"
   ]
  },
  {
   "cell_type": "code",
   "execution_count": 10,
   "id": "1a42cf65",
   "metadata": {
    "execution": {
     "iopub.execute_input": "2024-11-12T11:32:05.088101Z",
     "iopub.status.busy": "2024-11-12T11:32:05.087685Z",
     "iopub.status.idle": "2024-11-12T11:32:05.108551Z",
     "shell.execute_reply": "2024-11-12T11:32:05.106739Z"
    },
    "papermill": {
     "duration": 0.042567,
     "end_time": "2024-11-12T11:32:05.111351",
     "exception": false,
     "start_time": "2024-11-12T11:32:05.068784",
     "status": "completed"
    },
    "tags": []
   },
   "outputs": [
    {
     "name": "stdout",
     "output_type": "stream",
     "text": [
      "<class 'pandas.core.frame.DataFrame'>\n",
      "RangeIndex: 9999 entries, 0 to 9998\n",
      "Data columns (total 9 columns):\n",
      " #   Column    Non-Null Count  Dtype  \n",
      "---  ------    --------------  -----  \n",
      " 0   movies    9999 non-null   object \n",
      " 1   year      9355 non-null   object \n",
      " 2   genre     9919 non-null   object \n",
      " 3   rating    8179 non-null   float64\n",
      " 4   one-line  9999 non-null   object \n",
      " 5   stars     9999 non-null   object \n",
      " 6   votes     8179 non-null   object \n",
      " 7   runtime   7041 non-null   float64\n",
      " 8   gross     460 non-null    object \n",
      "dtypes: float64(2), object(7)\n",
      "memory usage: 703.2+ KB\n"
     ]
    }
   ],
   "source": [
    "df.info()"
   ]
  },
  {
   "cell_type": "code",
   "execution_count": 11,
   "id": "89542b15",
   "metadata": {
    "execution": {
     "iopub.execute_input": "2024-11-12T11:32:05.149840Z",
     "iopub.status.busy": "2024-11-12T11:32:05.149281Z",
     "iopub.status.idle": "2024-11-12T11:32:05.159201Z",
     "shell.execute_reply": "2024-11-12T11:32:05.157760Z"
    },
    "papermill": {
     "duration": 0.032299,
     "end_time": "2024-11-12T11:32:05.161927",
     "exception": false,
     "start_time": "2024-11-12T11:32:05.129628",
     "status": "completed"
    },
    "tags": []
   },
   "outputs": [
    {
     "data": {
      "text/plain": [
       "0         (2021)\n",
       "1       (2021– )\n",
       "2    (2010–2022)\n",
       "3       (2013– )\n",
       "4         (2021)\n",
       "Name: year, dtype: object"
      ]
     },
     "execution_count": 11,
     "metadata": {},
     "output_type": "execute_result"
    }
   ],
   "source": [
    "# year : The year of movie or tv shows telecast for audience\n",
    "df['year'][:5]"
   ]
  },
  {
   "cell_type": "code",
   "execution_count": 12,
   "id": "cebb8ba2",
   "metadata": {
    "execution": {
     "iopub.execute_input": "2024-11-12T11:32:05.200595Z",
     "iopub.status.busy": "2024-11-12T11:32:05.200142Z",
     "iopub.status.idle": "2024-11-12T11:32:05.210356Z",
     "shell.execute_reply": "2024-11-12T11:32:05.209064Z"
    },
    "papermill": {
     "duration": 0.032929,
     "end_time": "2024-11-12T11:32:05.213082",
     "exception": false,
     "start_time": "2024-11-12T11:32:05.180153",
     "status": "completed"
    },
    "tags": []
   },
   "outputs": [
    {
     "data": {
      "text/plain": [
       "644"
      ]
     },
     "execution_count": 12,
     "metadata": {},
     "output_type": "execute_result"
    }
   ],
   "source": [
    "df['year'].isna().sum()"
   ]
  },
  {
   "cell_type": "code",
   "execution_count": 13,
   "id": "14a24609",
   "metadata": {
    "execution": {
     "iopub.execute_input": "2024-11-12T11:32:05.252569Z",
     "iopub.status.busy": "2024-11-12T11:32:05.251458Z",
     "iopub.status.idle": "2024-11-12T11:32:05.263870Z",
     "shell.execute_reply": "2024-11-12T11:32:05.262330Z"
    },
    "papermill": {
     "duration": 0.035225,
     "end_time": "2024-11-12T11:32:05.266642",
     "exception": false,
     "start_time": "2024-11-12T11:32:05.231417",
     "status": "completed"
    },
    "tags": []
   },
   "outputs": [
    {
     "data": {
      "text/plain": [
       "array(['(2021)', '(2021– )', '(2010–2022)', '(2013– )', '(2020– )',\n",
       "       '(2006–2013)', '(2019– )', '(2016–2021)', '(2011– )', '(2005– )',\n",
       "       '(2008–2013)', '(2017– )', '(2017–2021)', '(2016– )',\n",
       "       '(1994–2004)', '(2014– )', '(2013–2020)', '(2015– )',\n",
       "       '(2005–2020)', '(2013–2022)', '(2003– )', '(2009–2020)',\n",
       "       '(I) (2018– )', '(2010–2015)', '(2011–2019)', '(2015–2020)',\n",
       "       '(2005–2014)', '(2009–2015)', '(2008–2014)', '(2016–2018)',\n",
       "       '(2009–2017)', '(2020)', '(2018–2021)', '(2017–2020)',\n",
       "       '(1987–1994)', '(2018– )', '(2012– )', '(2014–2020)',\n",
       "       '(2011–2018)', '(2005–2017)', '(2017)', '(2007–2015)',\n",
       "       '(2000–2007)', '(II) (2007– )', '(1993)', '(1999–2022)',\n",
       "       '(2015–2018)', '(2014–2019)', '(2016)', '(2012–2020)',\n",
       "       '(2013–2019)', '(2007–2012)', '(2011–2020)', '(2010–2017)',\n",
       "       '(2000–2015)', '(2015–2021)', '(2001)', '(1997– )', '(2011–2017)',\n",
       "       '(1993–1999)', '(1989–1998)', '(2010–2013)', '(2010–2020)',\n",
       "       '(2003–2019)', '(I) (2019)', '(2017–2019)', '(1975)',\n",
       "       '(2005–2008)', '(1995–2001)', '(2006)', '(2015–2017)',\n",
       "       '(2008–2020)', '(1984–1996)', '(2010– )', '(2014)', '(2000)',\n",
       "       '(2013–2018)', '(2009–2016)', '(2016–2020)', '(2021 TV Special)',\n",
       "       '(2003)', '(1998–2003)', '(I) (2017)', '(1966–1969)', '(2009– )',\n",
       "       '(2019)', '(1990–1991)', '(2012)', '(1995)', '(2020–2021)',\n",
       "       '(2013–2017)', '(2015)', '(2019–2020)', '(2017–2018)',\n",
       "       '(2013–2015)', '(2012–2017)', '(I) (2013–2016)', '(2002)',\n",
       "       '(I) (2020)', '(III) (2021)', '(2018)', '(II) (2016)', '(1976)',\n",
       "       '(1978)', '(2016–2019)', '(2009–2014)', '(2022)', '(2011–2014)',\n",
       "       '(2007–2013)', '(2006–2007)', '(2002–2007)', '(2014–2017)',\n",
       "       '(2010–2019)', '(2008– )', '(2012–2019)', '(2014–2016)',\n",
       "       '(2009–2012)', '(2018–2020)', '(2001–2005)', '(2011–2015)',\n",
       "       '(2014–2018)', '(2015–2019)', '(1982–1993)', '(1998– )', '(1968)',\n",
       "       '(2010–2018)', '(2014–2021)', '(2007–2010)', '(2011)',\n",
       "       '(2013–2021)', '(1990–1996)', '(2004)', '(2007–2014)',\n",
       "       '(1996–2001)', '(2013)', '(2008)', '(1999–2000)', '(2012–2014)',\n",
       "       '(I) (2013)', '(2012–2018)', '(2018–2019)', '(2009–2013)',\n",
       "       '(1971)', '(2004– )', '(1989)', '(1998)', '(2001–2018)',\n",
       "       '(1987–1995)', '(I) (2014)', '(1998–2020)', '(I) (2015)', '(1997)',\n",
       "       '(2004–2013)', '(2002– )', '(2010)', '(I) (2016)', '(II) (2017– )',\n",
       "       '(I) (2018)', '(I) (2021)', '(2004–2012)', '(2019–2021)',\n",
       "       '(IV) (2020)', '(2006–2010)', '(2006–2012)', '(1996)',\n",
       "       '(1994–2000)', '(II) (2020)', '(1980)', '(I) (2011)',\n",
       "       '(1995–1996)', '(2016–2017)', '(1993–1996)', '(II) (2019– )',\n",
       "       '(2009)', '(1962)', '(1991)', '(2022– )', '(II) (2017)',\n",
       "       '(I) (2012)', '(1984)', '(2011–2016)', '(2009–2019)',\n",
       "       '(II) (2020– )', '(2006–2021)', '(I) (2010)', '(2012–2015)',\n",
       "       '(I) (2013–2014)', '(1960)', '(1988)', '(2007)', '(1987)',\n",
       "       '(2010–2011)', '(1969)', '(2006–2011)', '(II) (2019)', '(1961)',\n",
       "       '(1979)', '(II) (2022)', '(2014–2015)', '(1956)', '(2013–2016)',\n",
       "       '(III) (2018)', '(2005)', '(II) (2012– )', '(II) (2013)', '(1983)',\n",
       "       '(2002–2019)', '(2013 TV Movie)', '(II) (2015)', '(I) (2012–2015)',\n",
       "       '(1975–1979)', '(1990)', nan, '(II) (2018)', '(IV) (2021)',\n",
       "       '(2015–2016)', '(1995–1998)', '(1986)', '(2012–2013)', '(1966)',\n",
       "       '(2011–2012)', '(2011–2021)', '(2016 Video)', '(2017 TV Movie)',\n",
       "       '(2009–2011)', '(2004–2018)', '(1967)', '(1984– )', '(1994)',\n",
       "       '(2003–2006)', '(III) (2015)', '(1974)', '(2000–2004)',\n",
       "       '(1984–2021)', '(I)', '(II) (2021)', '(1994–1999)', '(III)',\n",
       "       '(1992)', '(1969–1974)', '(2012–2016)', '(2013–2014)',\n",
       "       '(I) (2008)', '(1958)', '(2008–2009)', '(II) (2004)',\n",
       "       '(III) (2019)', '(2006–2009)', '(2011–2013)', '(2007–2008)',\n",
       "       '(1988–1999)', '(2010–2012)', '(2010–2014)', '(II) (2012)',\n",
       "       '(1932)', '(2014 TV Movie)', '(1941)', '(2006– )', '(1992–1995)',\n",
       "       '(2016 TV Special)', '(2020 TV Movie)', '(2008–2010)', '(II)',\n",
       "       '(2020 Video)', '(1999– )', '(1950)', '(2020 TV Special)',\n",
       "       '(1992–2014)', '(2002–2005)', '(2013 TV Special)', '(I) (2021– )',\n",
       "       '(1999)', '(2016 TV Movie)', '(XII)', '(VII)', '(2021 TV Movie)',\n",
       "       '(1983– )', '(1996 Video)', '(1993 TV Movie)', '(2018 TV Movie)',\n",
       "       '(2005–2009)', '(2001–2002)', '(2015 TV Movie)', '(I) (2020– )',\n",
       "       '(2011 Video)', '(2008 Video)', '(2012 Video)', '(1946)',\n",
       "       '(II) (2014)', '(2019 Video)', '(1981–1989)', '(IV) (2016)',\n",
       "       '(III) (2016)', '(2019 TV Movie)', '(1952)', '(2007 Video)',\n",
       "       '(2000–2014)', '(1992– )', '(1957)', '(2003–2007)', '(IV)',\n",
       "       '(2008–2017)', '(2008–2019)', '(1998–2000)', '(I) (2004)',\n",
       "       '(2007–2016)', '(2017 TV Special)', '(2009 TV Movie)',\n",
       "       '(2013 Video)', '(2017 Video)', '(1994–1996)', '(IV) (2017)',\n",
       "       '(IV) (2018)', '(2007– )', '(1954)', '(2012 TV Movie)', '(1995– )',\n",
       "       '(1982)', '(1955)', '(2014 TV Short)', '(I) (2022– )',\n",
       "       '(I) (2019–2020)', '(1975 TV Movie)', '(2019 TV Special)',\n",
       "       '(2015 TV Special)', '(2015 TV Short)', '(2018 TV Special)',\n",
       "       '(1948)', '(2014 Video)', '(VI) (2014)', '(2003–2013)',\n",
       "       '(2021 Video)', '(1947)', '(2001– )', '(II) (2021– )',\n",
       "       '(1997–2000)', '(III) (2020)', '(I) (2019– )', '(1993– )',\n",
       "       '(1977)', '(I) (2009)', '(V)', '(2023)', '(I) (2000)',\n",
       "       '(TV Special)', '(II) (2011)', '(TV Movie)', '(1945)',\n",
       "       '(2015 Video)', '(III) (2010)', '(2009 Video)', '(1998–2002)',\n",
       "       '(2008 TV Movie)', '(2019 TV Short)', '(2004 Video)',\n",
       "       '(II) (1998)', '(2014 TV Special)', '(1953)', '(1985)', '(VIII)',\n",
       "       '(1973)', '(2012 TV Special)', '(V) (2016)', '(1972)',\n",
       "       '(V) (2018)', '(II) (2010)', '(2021 TV Short)', '(VI) (2019)',\n",
       "       '(I) (2005)', '(1965)', '(2010–2016)', '(V) (2010)', '(2005–2013)',\n",
       "       '(2006 TV Special)', '(2006 Video)', '(2011 TV Movie)',\n",
       "       '(1988 TV Movie)', '(XXIII)', '(2011 TV Special)',\n",
       "       '(2020 TV Short)', '(VI) (2018)', '(2008 TV Special)',\n",
       "       '(1998–1999)', '(I) (2015– )', '(III) (2012)', '(VI)',\n",
       "       '(2010 TV Special)', '(III) (2017)', '(1993 TV Special)',\n",
       "       '(2004–2005)', '(1992 Video)', '(1989 TV Special)', '(XI)',\n",
       "       '(III) (2014)', '(1966 TV Special)', '(1999 TV Movie)',\n",
       "       '(1987 TV Special)', '(1944)', '(1998 TV Special)',\n",
       "       '(2006 TV Movie)', '(2022 TV Special)', '(1989 Video)',\n",
       "       '(1991 TV Special)', '(XLI)', '(IV) (2014)', '(2005 Video)',\n",
       "       '(2007 TV Special)', '(1965 TV Special)', '(1990 TV Special)',\n",
       "       '(2001 TV Special)', '(IX)', '(II) (2016– )', '(XIV) (2017)',\n",
       "       '(2009–2010)', '(XIII)', '(II) (2012–2019)', '(1933)',\n",
       "       '(II) (2009)', '(2010 Video)', '(2009 TV Special)', '(1938)',\n",
       "       '(2003 TV Special)', '(Video)', '(2001 TV Movie)', '(VI) (2016)',\n",
       "       '(III) (2011)', '(2007 TV Movie)', '(2017 TV Short)',\n",
       "       '(2018 Video)', '(2000 Video)', '(1995 Video)', '(2003 Video)',\n",
       "       '(II) (2016 TV Movie)', '(1998 Video)', '(2005 TV Special)',\n",
       "       '(2004–2009)', '(2018 Video Game)', '(1988– )', '(1985– )'],\n",
       "      dtype=object)"
      ]
     },
     "execution_count": 13,
     "metadata": {},
     "output_type": "execute_result"
    }
   ],
   "source": [
    "# explore year column\n",
    "df['year'].unique()"
   ]
  },
  {
   "cell_type": "code",
   "execution_count": 14,
   "id": "6c38df72",
   "metadata": {
    "execution": {
     "iopub.execute_input": "2024-11-12T11:32:05.310158Z",
     "iopub.status.busy": "2024-11-12T11:32:05.309642Z",
     "iopub.status.idle": "2024-11-12T11:32:05.334192Z",
     "shell.execute_reply": "2024-11-12T11:32:05.333000Z"
    },
    "papermill": {
     "duration": 0.050569,
     "end_time": "2024-11-12T11:32:05.336577",
     "exception": false,
     "start_time": "2024-11-12T11:32:05.286008",
     "status": "completed"
    },
    "tags": []
   },
   "outputs": [
    {
     "data": {
      "text/plain": [
       "array(['2021', '2010', '2013', '2020', '2006', '2019', '2016', '2011',\n",
       "       '2005', '2008', '2017', '1994', '2014', '2015', '2003', '2009',\n",
       "       '2018', '1987', '2012', '2007', '2000', '1993', '1999', '2001',\n",
       "       '1997', '1989', '1975', '1995', '1984', '1998', '1966', '1990',\n",
       "       '2002', '1976', '1978', '2022', '1982', '1968', '2004', '1996',\n",
       "       '1971', '1980', '1962', '1991', '1960', '1988', '1969', '1961',\n",
       "       '1979', '1956', '1983', nan, '1986', '1967', '1974', '1992',\n",
       "       '1958', '1932', '1941', '1950', '1946', '1981', '1952', '1957',\n",
       "       '1954', '1955', '1948', '1947', '1977', '2023', '1945', '1953',\n",
       "       '1985', '1973', '1972', '1965', '1944', '1933', '1938'],\n",
       "      dtype=object)"
      ]
     },
     "execution_count": 14,
     "metadata": {},
     "output_type": "execute_result"
    }
   ],
   "source": [
    "# remove all characters and convert to int\n",
    "df['year'] = df['year'].str.extract('(\\d{4})', expand=False)\n",
    "df['year'].unique()"
   ]
  },
  {
   "cell_type": "code",
   "execution_count": 15,
   "id": "6c98273b",
   "metadata": {
    "execution": {
     "iopub.execute_input": "2024-11-12T11:32:05.376954Z",
     "iopub.status.busy": "2024-11-12T11:32:05.376020Z",
     "iopub.status.idle": "2024-11-12T11:32:05.393637Z",
     "shell.execute_reply": "2024-11-12T11:32:05.392205Z"
    },
    "papermill": {
     "duration": 0.040789,
     "end_time": "2024-11-12T11:32:05.396283",
     "exception": false,
     "start_time": "2024-11-12T11:32:05.355494",
     "status": "completed"
    },
    "tags": []
   },
   "outputs": [],
   "source": [
    "# change datattype from object to int\n",
    "# Convert 'year' column to numeric, forcing any invalid parsing (like empty strings) to NaN\n",
    "# If ‘coerce’, then invalid parsing will be set as NaN.\n",
    "df['year']= pd.to_numeric(df['year'], errors='coerce')"
   ]
  },
  {
   "cell_type": "markdown",
   "id": "f4f4e948",
   "metadata": {
    "papermill": {
     "duration": 0.018596,
     "end_time": "2024-11-12T11:32:05.434089",
     "exception": false,
     "start_time": "2024-11-12T11:32:05.415493",
     "status": "completed"
    },
    "tags": []
   },
   "source": []
  },
  {
   "cell_type": "code",
   "execution_count": 16,
   "id": "df34f85f",
   "metadata": {
    "execution": {
     "iopub.execute_input": "2024-11-12T11:32:05.474244Z",
     "iopub.status.busy": "2024-11-12T11:32:05.473782Z",
     "iopub.status.idle": "2024-11-12T11:32:05.483760Z",
     "shell.execute_reply": "2024-11-12T11:32:05.482574Z"
    },
    "papermill": {
     "duration": 0.033359,
     "end_time": "2024-11-12T11:32:05.486512",
     "exception": false,
     "start_time": "2024-11-12T11:32:05.453153",
     "status": "completed"
    },
    "tags": []
   },
   "outputs": [
    {
     "data": {
      "text/plain": [
       "0        \\nAction, Horror, Thriller            \n",
       "1    \\nAnimation, Action, Adventure            \n",
       "2         \\nDrama, Horror, Thriller            \n",
       "3    \\nAnimation, Adventure, Comedy            \n",
       "4           \\nAction, Crime, Horror            \n",
       "Name: genre, dtype: object"
      ]
     },
     "execution_count": 16,
     "metadata": {},
     "output_type": "execute_result"
    }
   ],
   "source": [
    "# genre\n",
    "df['genre'][:5]"
   ]
  },
  {
   "cell_type": "code",
   "execution_count": 17,
   "id": "34cb12e0",
   "metadata": {
    "execution": {
     "iopub.execute_input": "2024-11-12T11:32:05.527926Z",
     "iopub.status.busy": "2024-11-12T11:32:05.527406Z",
     "iopub.status.idle": "2024-11-12T11:32:05.537240Z",
     "shell.execute_reply": "2024-11-12T11:32:05.536115Z"
    },
    "papermill": {
     "duration": 0.033332,
     "end_time": "2024-11-12T11:32:05.539776",
     "exception": false,
     "start_time": "2024-11-12T11:32:05.506444",
     "status": "completed"
    },
    "tags": []
   },
   "outputs": [
    {
     "data": {
      "text/plain": [
       "80"
      ]
     },
     "execution_count": 17,
     "metadata": {},
     "output_type": "execute_result"
    }
   ],
   "source": [
    "df['genre'].isnull().sum()"
   ]
  },
  {
   "cell_type": "code",
   "execution_count": 18,
   "id": "b5266a6d",
   "metadata": {
    "execution": {
     "iopub.execute_input": "2024-11-12T11:32:05.580538Z",
     "iopub.status.busy": "2024-11-12T11:32:05.580056Z",
     "iopub.status.idle": "2024-11-12T11:32:05.591549Z",
     "shell.execute_reply": "2024-11-12T11:32:05.590016Z"
    },
    "papermill": {
     "duration": 0.035096,
     "end_time": "2024-11-12T11:32:05.594261",
     "exception": false,
     "start_time": "2024-11-12T11:32:05.559165",
     "status": "completed"
    },
    "tags": []
   },
   "outputs": [],
   "source": [
    "df['genre'] = df['genre'].str.strip()"
   ]
  },
  {
   "cell_type": "markdown",
   "id": "ea564b17",
   "metadata": {
    "papermill": {
     "duration": 0.019152,
     "end_time": "2024-11-12T11:32:05.633227",
     "exception": false,
     "start_time": "2024-11-12T11:32:05.614075",
     "status": "completed"
    },
    "tags": []
   },
   "source": [
    "Done!"
   ]
  },
  {
   "cell_type": "code",
   "execution_count": 19,
   "id": "ef3b9e16",
   "metadata": {
    "execution": {
     "iopub.execute_input": "2024-11-12T11:32:05.673850Z",
     "iopub.status.busy": "2024-11-12T11:32:05.673342Z",
     "iopub.status.idle": "2024-11-12T11:32:05.681266Z",
     "shell.execute_reply": "2024-11-12T11:32:05.679940Z"
    },
    "papermill": {
     "duration": 0.031581,
     "end_time": "2024-11-12T11:32:05.684059",
     "exception": false,
     "start_time": "2024-11-12T11:32:05.652478",
     "status": "completed"
    },
    "tags": []
   },
   "outputs": [
    {
     "data": {
      "text/plain": [
       "7.6"
      ]
     },
     "execution_count": 19,
     "metadata": {},
     "output_type": "execute_result"
    }
   ],
   "source": [
    "# rating: The audience thought about movie or tv show given\n",
    "df['rating'][5]"
   ]
  },
  {
   "cell_type": "code",
   "execution_count": 20,
   "id": "73aff1a4",
   "metadata": {
    "execution": {
     "iopub.execute_input": "2024-11-12T11:32:05.725582Z",
     "iopub.status.busy": "2024-11-12T11:32:05.725111Z",
     "iopub.status.idle": "2024-11-12T11:32:05.739385Z",
     "shell.execute_reply": "2024-11-12T11:32:05.738173Z"
    },
    "papermill": {
     "duration": 0.038495,
     "end_time": "2024-11-12T11:32:05.741958",
     "exception": false,
     "start_time": "2024-11-12T11:32:05.703463",
     "status": "completed"
    },
    "tags": []
   },
   "outputs": [
    {
     "data": {
      "text/plain": [
       "array([6.1, 5. , 8.2, 9.2, nan, 7.6, 6.8, 8.6, 7.9, 7.4, 6. , 8.1, 6.2,\n",
       "       5.4, 8. , 7.5, 9.4, 8.3, 8.7, 8.9, 8.8, 8.5, 8.4, 6.7, 7.7, 9. ,\n",
       "       5.8, 3.3, 7.8, 5.7, 6.6, 6.9, 6.5, 7.1, 5.6, 7.3, 9.1, 7.2, 6.4,\n",
       "       9.3, 7. , 6.3, 3.7, 5.5, 4.6, 4.8, 5.3, 4.7, 5.9, 5.1, 4.9, 2.7,\n",
       "       4.4, 3.1, 4.5, 4.2, 3.8, 5.2, 2.8, 3.5, 4.3, 3.2, 1.1, 3.9, 4. ,\n",
       "       3.4, 2.6, 3.6, 3. , 2.5, 2.2, 2.9, 4.1, 2.1, 2. , 2.3, 2.4, 1.8,\n",
       "       9.6, 9.5, 9.7, 9.9, 9.8])"
      ]
     },
     "execution_count": 20,
     "metadata": {},
     "output_type": "execute_result"
    }
   ],
   "source": [
    "df['rating'].unique()"
   ]
  },
  {
   "cell_type": "code",
   "execution_count": 21,
   "id": "9b4d8d43",
   "metadata": {
    "execution": {
     "iopub.execute_input": "2024-11-12T11:32:05.783338Z",
     "iopub.status.busy": "2024-11-12T11:32:05.782907Z",
     "iopub.status.idle": "2024-11-12T11:32:05.793592Z",
     "shell.execute_reply": "2024-11-12T11:32:05.792455Z"
    },
    "papermill": {
     "duration": 0.034687,
     "end_time": "2024-11-12T11:32:05.796206",
     "exception": false,
     "start_time": "2024-11-12T11:32:05.761519",
     "status": "completed"
    },
    "tags": []
   },
   "outputs": [
    {
     "data": {
      "text/plain": [
       "0       6.1\n",
       "1       5.0\n",
       "2       8.2\n",
       "3       9.2\n",
       "4       NaN\n",
       "       ... \n",
       "9994    NaN\n",
       "9995    NaN\n",
       "9996    NaN\n",
       "9997    NaN\n",
       "9998    NaN\n",
       "Name: rating, Length: 9999, dtype: float64"
      ]
     },
     "execution_count": 21,
     "metadata": {},
     "output_type": "execute_result"
    }
   ],
   "source": [
    "pd.to_numeric(df['rating'], errors='coerce')"
   ]
  },
  {
   "cell_type": "markdown",
   "id": "5fdd16f2",
   "metadata": {
    "papermill": {
     "duration": 0.020209,
     "end_time": "2024-11-12T11:32:05.836903",
     "exception": false,
     "start_time": "2024-11-12T11:32:05.816694",
     "status": "completed"
    },
    "tags": []
   },
   "source": [
    "Looks Good!!"
   ]
  },
  {
   "cell_type": "code",
   "execution_count": 22,
   "id": "9902cb0a",
   "metadata": {
    "execution": {
     "iopub.execute_input": "2024-11-12T11:32:05.878450Z",
     "iopub.status.busy": "2024-11-12T11:32:05.877990Z",
     "iopub.status.idle": "2024-11-12T11:32:05.887482Z",
     "shell.execute_reply": "2024-11-12T11:32:05.886170Z"
    },
    "papermill": {
     "duration": 0.033739,
     "end_time": "2024-11-12T11:32:05.890423",
     "exception": false,
     "start_time": "2024-11-12T11:32:05.856684",
     "status": "completed"
    },
    "tags": []
   },
   "outputs": [
    {
     "data": {
      "text/plain": [
       "0    \\nA woman with a mysterious illness is forced ...\n",
       "1    \\nThe war for Eternia begins again in what may...\n",
       "2    \\nSheriff Deputy Rick Grimes wakes up from a c...\n",
       "3    \\nAn animated series that follows the exploits...\n",
       "4    \\nA prequel, set before the events of Army of ...\n",
       "Name: one-line, dtype: object"
      ]
     },
     "execution_count": 22,
     "metadata": {},
     "output_type": "execute_result"
    }
   ],
   "source": [
    "# one-line\n",
    "df['one-line'][:5]"
   ]
  },
  {
   "cell_type": "code",
   "execution_count": 23,
   "id": "014afa80",
   "metadata": {
    "execution": {
     "iopub.execute_input": "2024-11-12T11:32:05.933808Z",
     "iopub.status.busy": "2024-11-12T11:32:05.932716Z",
     "iopub.status.idle": "2024-11-12T11:32:05.942942Z",
     "shell.execute_reply": "2024-11-12T11:32:05.941558Z"
    },
    "papermill": {
     "duration": 0.034333,
     "end_time": "2024-11-12T11:32:05.945531",
     "exception": false,
     "start_time": "2024-11-12T11:32:05.911198",
     "status": "completed"
    },
    "tags": []
   },
   "outputs": [
    {
     "data": {
      "text/plain": [
       "0"
      ]
     },
     "execution_count": 23,
     "metadata": {},
     "output_type": "execute_result"
    }
   ],
   "source": [
    "# null\n",
    "df['one-line'].isnull().sum()"
   ]
  },
  {
   "cell_type": "code",
   "execution_count": 24,
   "id": "90406677",
   "metadata": {
    "execution": {
     "iopub.execute_input": "2024-11-12T11:32:05.988957Z",
     "iopub.status.busy": "2024-11-12T11:32:05.987452Z",
     "iopub.status.idle": "2024-11-12T11:32:06.077391Z",
     "shell.execute_reply": "2024-11-12T11:32:06.075916Z"
    },
    "papermill": {
     "duration": 0.115002,
     "end_time": "2024-11-12T11:32:06.080737",
     "exception": false,
     "start_time": "2024-11-12T11:32:05.965735",
     "status": "completed"
    },
    "tags": []
   },
   "outputs": [],
   "source": [
    "# remove \\n\n",
    "df['one-line'] = df['one-line'].str.strip().replace('Add a Plot', 'Unknown').str.replace('[^\\w\\s]', '', regex=True)"
   ]
  },
  {
   "cell_type": "code",
   "execution_count": 25,
   "id": "8c2278c5",
   "metadata": {
    "execution": {
     "iopub.execute_input": "2024-11-12T11:32:06.123730Z",
     "iopub.status.busy": "2024-11-12T11:32:06.123224Z",
     "iopub.status.idle": "2024-11-12T11:32:06.140755Z",
     "shell.execute_reply": "2024-11-12T11:32:06.139619Z"
    },
    "papermill": {
     "duration": 0.042226,
     "end_time": "2024-11-12T11:32:06.143353",
     "exception": false,
     "start_time": "2024-11-12T11:32:06.101127",
     "status": "completed"
    },
    "tags": []
   },
   "outputs": [
    {
     "data": {
      "text/html": [
       "<div>\n",
       "<style scoped>\n",
       "    .dataframe tbody tr th:only-of-type {\n",
       "        vertical-align: middle;\n",
       "    }\n",
       "\n",
       "    .dataframe tbody tr th {\n",
       "        vertical-align: top;\n",
       "    }\n",
       "\n",
       "    .dataframe thead th {\n",
       "        text-align: right;\n",
       "    }\n",
       "</style>\n",
       "<table border=\"1\" class=\"dataframe\">\n",
       "  <thead>\n",
       "    <tr style=\"text-align: right;\">\n",
       "      <th></th>\n",
       "      <th>one-line</th>\n",
       "    </tr>\n",
       "  </thead>\n",
       "  <tbody>\n",
       "    <tr>\n",
       "      <th>0</th>\n",
       "      <td>A woman with a mysterious illness is forced in...</td>\n",
       "    </tr>\n",
       "    <tr>\n",
       "      <th>1</th>\n",
       "      <td>The war for Eternia begins again in what may b...</td>\n",
       "    </tr>\n",
       "    <tr>\n",
       "      <th>2</th>\n",
       "      <td>Sheriff Deputy Rick Grimes wakes up from a com...</td>\n",
       "    </tr>\n",
       "    <tr>\n",
       "      <th>3</th>\n",
       "      <td>An animated series that follows the exploits o...</td>\n",
       "    </tr>\n",
       "    <tr>\n",
       "      <th>4</th>\n",
       "      <td>A prequel set before the events of Army of the...</td>\n",
       "    </tr>\n",
       "    <tr>\n",
       "      <th>...</th>\n",
       "      <td>...</td>\n",
       "    </tr>\n",
       "    <tr>\n",
       "      <th>9994</th>\n",
       "      <td>Unknown</td>\n",
       "    </tr>\n",
       "    <tr>\n",
       "      <th>9995</th>\n",
       "      <td>Unknown</td>\n",
       "    </tr>\n",
       "    <tr>\n",
       "      <th>9996</th>\n",
       "      <td>Unknown</td>\n",
       "    </tr>\n",
       "    <tr>\n",
       "      <th>9997</th>\n",
       "      <td>Unknown</td>\n",
       "    </tr>\n",
       "    <tr>\n",
       "      <th>9998</th>\n",
       "      <td>Unknown</td>\n",
       "    </tr>\n",
       "  </tbody>\n",
       "</table>\n",
       "<p>9999 rows × 1 columns</p>\n",
       "</div>"
      ],
      "text/plain": [
       "                                               one-line\n",
       "0     A woman with a mysterious illness is forced in...\n",
       "1     The war for Eternia begins again in what may b...\n",
       "2     Sheriff Deputy Rick Grimes wakes up from a com...\n",
       "3     An animated series that follows the exploits o...\n",
       "4     A prequel set before the events of Army of the...\n",
       "...                                                 ...\n",
       "9994                                            Unknown\n",
       "9995                                            Unknown\n",
       "9996                                            Unknown\n",
       "9997                                            Unknown\n",
       "9998                                            Unknown\n",
       "\n",
       "[9999 rows x 1 columns]"
      ]
     },
     "execution_count": 25,
     "metadata": {},
     "output_type": "execute_result"
    }
   ],
   "source": [
    "df[['one-line']]"
   ]
  },
  {
   "cell_type": "markdown",
   "id": "a2eafd84",
   "metadata": {
    "papermill": {
     "duration": 0.020154,
     "end_time": "2024-11-12T11:32:06.184173",
     "exception": false,
     "start_time": "2024-11-12T11:32:06.164019",
     "status": "completed"
    },
    "tags": []
   },
   "source": [
    "Looks good!!😊"
   ]
  },
  {
   "cell_type": "code",
   "execution_count": 26,
   "id": "a8df07df",
   "metadata": {
    "execution": {
     "iopub.execute_input": "2024-11-12T11:32:06.226621Z",
     "iopub.status.busy": "2024-11-12T11:32:06.226115Z",
     "iopub.status.idle": "2024-11-12T11:32:06.237531Z",
     "shell.execute_reply": "2024-11-12T11:32:06.236315Z"
    },
    "papermill": {
     "duration": 0.035907,
     "end_time": "2024-11-12T11:32:06.240161",
     "exception": false,
     "start_time": "2024-11-12T11:32:06.204254",
     "status": "completed"
    },
    "tags": []
   },
   "outputs": [
    {
     "data": {
      "text/plain": [
       "0       \\n    Director:\\nPeter Thorwarth\\n| \\n    Star...\n",
       "1       \\n            \\n    Stars:\\nChris Wood, \\nSara...\n",
       "2       \\n            \\n    Stars:\\nAndrew Lincoln, \\n...\n",
       "3       \\n            \\n    Stars:\\nJustin Roiland, \\n...\n",
       "4       \\n    Director:\\nMatthias Schweighöfer\\n| \\n  ...\n",
       "                              ...                        \n",
       "9994    \\n            \\n    Stars:\\nMorgan Taylor Camp...\n",
       "9995                                                   \\n\n",
       "9996    \\n    Director:\\nOrlando von Einsiedel\\n| \\n  ...\n",
       "9997    \\n    Director:\\nJovanka Vuckovic\\n| \\n    Sta...\n",
       "9998    \\n    Director:\\nJovanka Vuckovic\\n| \\n    Sta...\n",
       "Name: stars, Length: 9999, dtype: object"
      ]
     },
     "execution_count": 26,
     "metadata": {},
     "output_type": "execute_result"
    }
   ],
   "source": [
    "# stars: The casting of art is define under this columns which makes talk between audience\n",
    "df['stars']"
   ]
  },
  {
   "cell_type": "code",
   "execution_count": 27,
   "id": "33ad48f3",
   "metadata": {
    "execution": {
     "iopub.execute_input": "2024-11-12T11:32:06.282742Z",
     "iopub.status.busy": "2024-11-12T11:32:06.282136Z",
     "iopub.status.idle": "2024-11-12T11:32:06.290138Z",
     "shell.execute_reply": "2024-11-12T11:32:06.288711Z"
    },
    "papermill": {
     "duration": 0.03286,
     "end_time": "2024-11-12T11:32:06.293074",
     "exception": false,
     "start_time": "2024-11-12T11:32:06.260214",
     "status": "completed"
    },
    "tags": []
   },
   "outputs": [],
   "source": [
    "def get_stars(text):\n",
    "    director = None\n",
    "    stars = None\n",
    "    if 'Director:' in text:\n",
    "        director = text.split('Director:\\n')[1].split('\\n|')[0].strip()\n",
    "    if 'Stars:' in text:\n",
    "        stars = text.split('Stars:\\n')[1].replace('\\n','').strip()\n",
    "    return director, stars"
   ]
  },
  {
   "cell_type": "code",
   "execution_count": 28,
   "id": "b9c6de4a",
   "metadata": {
    "execution": {
     "iopub.execute_input": "2024-11-12T11:32:06.339807Z",
     "iopub.status.busy": "2024-11-12T11:32:06.339310Z",
     "iopub.status.idle": "2024-11-12T11:32:07.912162Z",
     "shell.execute_reply": "2024-11-12T11:32:07.910755Z"
    },
    "papermill": {
     "duration": 1.59911,
     "end_time": "2024-11-12T11:32:07.915143",
     "exception": false,
     "start_time": "2024-11-12T11:32:06.316033",
     "status": "completed"
    },
    "tags": []
   },
   "outputs": [
    {
     "data": {
      "text/plain": [
       "0    Peri Baumeister, Carl Anton Koch, Alexander Sc...\n",
       "1    Chris Wood, Sarah Michelle Gellar, Lena Headey...\n",
       "2    Andrew Lincoln, Norman Reedus, Melissa McBride...\n",
       "3    Justin Roiland, Chris Parnell, Spencer Grammer...\n",
       "4    Matthias Schweighöfer, Nathalie Emmanuel, Ruby...\n",
       "Name: stars, dtype: object"
      ]
     },
     "execution_count": 28,
     "metadata": {},
     "output_type": "execute_result"
    }
   ],
   "source": [
    "df[[\"director\", \"stars\"]]  = df['stars'].apply(lambda item : pd.Series(get_stars(item)))\n",
    "df['stars'] = df['stars'].apply(lambda x: x if x !=None else 'Unkonwn')\n",
    "df['stars'].head()"
   ]
  },
  {
   "cell_type": "code",
   "execution_count": 29,
   "id": "c77fd00e",
   "metadata": {
    "execution": {
     "iopub.execute_input": "2024-11-12T11:32:07.958109Z",
     "iopub.status.busy": "2024-11-12T11:32:07.957652Z",
     "iopub.status.idle": "2024-11-12T11:32:07.977152Z",
     "shell.execute_reply": "2024-11-12T11:32:07.975890Z"
    },
    "papermill": {
     "duration": 0.044181,
     "end_time": "2024-11-12T11:32:07.980186",
     "exception": false,
     "start_time": "2024-11-12T11:32:07.936005",
     "status": "completed"
    },
    "tags": []
   },
   "outputs": [
    {
     "data": {
      "text/html": [
       "<div>\n",
       "<style scoped>\n",
       "    .dataframe tbody tr th:only-of-type {\n",
       "        vertical-align: middle;\n",
       "    }\n",
       "\n",
       "    .dataframe tbody tr th {\n",
       "        vertical-align: top;\n",
       "    }\n",
       "\n",
       "    .dataframe thead th {\n",
       "        text-align: right;\n",
       "    }\n",
       "</style>\n",
       "<table border=\"1\" class=\"dataframe\">\n",
       "  <thead>\n",
       "    <tr style=\"text-align: right;\">\n",
       "      <th></th>\n",
       "      <th>movies</th>\n",
       "      <th>year</th>\n",
       "      <th>genre</th>\n",
       "      <th>rating</th>\n",
       "      <th>one-line</th>\n",
       "      <th>stars</th>\n",
       "      <th>votes</th>\n",
       "      <th>runtime</th>\n",
       "      <th>gross</th>\n",
       "      <th>director</th>\n",
       "    </tr>\n",
       "  </thead>\n",
       "  <tbody>\n",
       "    <tr>\n",
       "      <th>0</th>\n",
       "      <td>Blood Red Sky</td>\n",
       "      <td>2021.0</td>\n",
       "      <td>Action, Horror, Thriller</td>\n",
       "      <td>6.1</td>\n",
       "      <td>A woman with a mysterious illness is forced in...</td>\n",
       "      <td>Peri Baumeister, Carl Anton Koch, Alexander Sc...</td>\n",
       "      <td>21,062</td>\n",
       "      <td>121.0</td>\n",
       "      <td>NaN</td>\n",
       "      <td>Peter Thorwarth</td>\n",
       "    </tr>\n",
       "    <tr>\n",
       "      <th>1</th>\n",
       "      <td>Masters of the Universe: Revelation</td>\n",
       "      <td>2021.0</td>\n",
       "      <td>Animation, Action, Adventure</td>\n",
       "      <td>5.0</td>\n",
       "      <td>The war for Eternia begins again in what may b...</td>\n",
       "      <td>Chris Wood, Sarah Michelle Gellar, Lena Headey...</td>\n",
       "      <td>17,870</td>\n",
       "      <td>25.0</td>\n",
       "      <td>NaN</td>\n",
       "      <td>None</td>\n",
       "    </tr>\n",
       "    <tr>\n",
       "      <th>2</th>\n",
       "      <td>The Walking Dead</td>\n",
       "      <td>2010.0</td>\n",
       "      <td>Drama, Horror, Thriller</td>\n",
       "      <td>8.2</td>\n",
       "      <td>Sheriff Deputy Rick Grimes wakes up from a com...</td>\n",
       "      <td>Andrew Lincoln, Norman Reedus, Melissa McBride...</td>\n",
       "      <td>885,805</td>\n",
       "      <td>44.0</td>\n",
       "      <td>NaN</td>\n",
       "      <td>None</td>\n",
       "    </tr>\n",
       "    <tr>\n",
       "      <th>3</th>\n",
       "      <td>Rick and Morty</td>\n",
       "      <td>2013.0</td>\n",
       "      <td>Animation, Adventure, Comedy</td>\n",
       "      <td>9.2</td>\n",
       "      <td>An animated series that follows the exploits o...</td>\n",
       "      <td>Justin Roiland, Chris Parnell, Spencer Grammer...</td>\n",
       "      <td>414,849</td>\n",
       "      <td>23.0</td>\n",
       "      <td>NaN</td>\n",
       "      <td>None</td>\n",
       "    </tr>\n",
       "    <tr>\n",
       "      <th>4</th>\n",
       "      <td>Army of Thieves</td>\n",
       "      <td>2021.0</td>\n",
       "      <td>Action, Crime, Horror</td>\n",
       "      <td>NaN</td>\n",
       "      <td>A prequel set before the events of Army of the...</td>\n",
       "      <td>Matthias Schweighöfer, Nathalie Emmanuel, Ruby...</td>\n",
       "      <td>NaN</td>\n",
       "      <td>NaN</td>\n",
       "      <td>NaN</td>\n",
       "      <td>Matthias Schweighöfer</td>\n",
       "    </tr>\n",
       "  </tbody>\n",
       "</table>\n",
       "</div>"
      ],
      "text/plain": [
       "                                movies    year                         genre  \\\n",
       "0                        Blood Red Sky  2021.0      Action, Horror, Thriller   \n",
       "1  Masters of the Universe: Revelation  2021.0  Animation, Action, Adventure   \n",
       "2                     The Walking Dead  2010.0       Drama, Horror, Thriller   \n",
       "3                       Rick and Morty  2013.0  Animation, Adventure, Comedy   \n",
       "4                      Army of Thieves  2021.0         Action, Crime, Horror   \n",
       "\n",
       "   rating                                           one-line  \\\n",
       "0     6.1  A woman with a mysterious illness is forced in...   \n",
       "1     5.0  The war for Eternia begins again in what may b...   \n",
       "2     8.2  Sheriff Deputy Rick Grimes wakes up from a com...   \n",
       "3     9.2  An animated series that follows the exploits o...   \n",
       "4     NaN  A prequel set before the events of Army of the...   \n",
       "\n",
       "                                               stars    votes  runtime gross  \\\n",
       "0  Peri Baumeister, Carl Anton Koch, Alexander Sc...   21,062    121.0   NaN   \n",
       "1  Chris Wood, Sarah Michelle Gellar, Lena Headey...   17,870     25.0   NaN   \n",
       "2  Andrew Lincoln, Norman Reedus, Melissa McBride...  885,805     44.0   NaN   \n",
       "3  Justin Roiland, Chris Parnell, Spencer Grammer...  414,849     23.0   NaN   \n",
       "4  Matthias Schweighöfer, Nathalie Emmanuel, Ruby...      NaN      NaN   NaN   \n",
       "\n",
       "                director  \n",
       "0        Peter Thorwarth  \n",
       "1                   None  \n",
       "2                   None  \n",
       "3                   None  \n",
       "4  Matthias Schweighöfer  "
      ]
     },
     "execution_count": 29,
     "metadata": {},
     "output_type": "execute_result"
    }
   ],
   "source": [
    "df.head()"
   ]
  },
  {
   "cell_type": "code",
   "execution_count": 30,
   "id": "ddb994a8",
   "metadata": {
    "execution": {
     "iopub.execute_input": "2024-11-12T11:32:08.027565Z",
     "iopub.status.busy": "2024-11-12T11:32:08.027057Z",
     "iopub.status.idle": "2024-11-12T11:32:08.036837Z",
     "shell.execute_reply": "2024-11-12T11:32:08.035568Z"
    },
    "papermill": {
     "duration": 0.037132,
     "end_time": "2024-11-12T11:32:08.039495",
     "exception": false,
     "start_time": "2024-11-12T11:32:08.002363",
     "status": "completed"
    },
    "tags": []
   },
   "outputs": [
    {
     "data": {
      "text/plain": [
       "0     21,062\n",
       "1     17,870\n",
       "2    885,805\n",
       "3    414,849\n",
       "4        NaN\n",
       "Name: votes, dtype: object"
      ]
     },
     "execution_count": 30,
     "metadata": {},
     "output_type": "execute_result"
    }
   ],
   "source": [
    "# votes: \n",
    "df['votes'].head()"
   ]
  },
  {
   "cell_type": "code",
   "execution_count": 31,
   "id": "ca7c9c9a",
   "metadata": {
    "execution": {
     "iopub.execute_input": "2024-11-12T11:32:08.086309Z",
     "iopub.status.busy": "2024-11-12T11:32:08.085253Z",
     "iopub.status.idle": "2024-11-12T11:32:08.112201Z",
     "shell.execute_reply": "2024-11-12T11:32:08.110872Z"
    },
    "papermill": {
     "duration": 0.053159,
     "end_time": "2024-11-12T11:32:08.115248",
     "exception": false,
     "start_time": "2024-11-12T11:32:08.062089",
     "status": "completed"
    },
    "tags": []
   },
   "outputs": [
    {
     "data": {
      "text/html": [
       "<div>\n",
       "<style scoped>\n",
       "    .dataframe tbody tr th:only-of-type {\n",
       "        vertical-align: middle;\n",
       "    }\n",
       "\n",
       "    .dataframe tbody tr th {\n",
       "        vertical-align: top;\n",
       "    }\n",
       "\n",
       "    .dataframe thead th {\n",
       "        text-align: right;\n",
       "    }\n",
       "</style>\n",
       "<table border=\"1\" class=\"dataframe\">\n",
       "  <thead>\n",
       "    <tr style=\"text-align: right;\">\n",
       "      <th></th>\n",
       "      <th>movies</th>\n",
       "      <th>year</th>\n",
       "      <th>genre</th>\n",
       "      <th>rating</th>\n",
       "      <th>one-line</th>\n",
       "      <th>stars</th>\n",
       "      <th>votes</th>\n",
       "      <th>runtime</th>\n",
       "      <th>gross</th>\n",
       "      <th>director</th>\n",
       "    </tr>\n",
       "  </thead>\n",
       "  <tbody>\n",
       "    <tr>\n",
       "      <th>0</th>\n",
       "      <td>Blood Red Sky</td>\n",
       "      <td>2021.0</td>\n",
       "      <td>Action, Horror, Thriller</td>\n",
       "      <td>6.1</td>\n",
       "      <td>A woman with a mysterious illness is forced in...</td>\n",
       "      <td>Peri Baumeister, Carl Anton Koch, Alexander Sc...</td>\n",
       "      <td>21062.0</td>\n",
       "      <td>121.0</td>\n",
       "      <td>NaN</td>\n",
       "      <td>Peter Thorwarth</td>\n",
       "    </tr>\n",
       "    <tr>\n",
       "      <th>1</th>\n",
       "      <td>Masters of the Universe: Revelation</td>\n",
       "      <td>2021.0</td>\n",
       "      <td>Animation, Action, Adventure</td>\n",
       "      <td>5.0</td>\n",
       "      <td>The war for Eternia begins again in what may b...</td>\n",
       "      <td>Chris Wood, Sarah Michelle Gellar, Lena Headey...</td>\n",
       "      <td>17870.0</td>\n",
       "      <td>25.0</td>\n",
       "      <td>NaN</td>\n",
       "      <td>None</td>\n",
       "    </tr>\n",
       "    <tr>\n",
       "      <th>2</th>\n",
       "      <td>The Walking Dead</td>\n",
       "      <td>2010.0</td>\n",
       "      <td>Drama, Horror, Thriller</td>\n",
       "      <td>8.2</td>\n",
       "      <td>Sheriff Deputy Rick Grimes wakes up from a com...</td>\n",
       "      <td>Andrew Lincoln, Norman Reedus, Melissa McBride...</td>\n",
       "      <td>885805.0</td>\n",
       "      <td>44.0</td>\n",
       "      <td>NaN</td>\n",
       "      <td>None</td>\n",
       "    </tr>\n",
       "    <tr>\n",
       "      <th>3</th>\n",
       "      <td>Rick and Morty</td>\n",
       "      <td>2013.0</td>\n",
       "      <td>Animation, Adventure, Comedy</td>\n",
       "      <td>9.2</td>\n",
       "      <td>An animated series that follows the exploits o...</td>\n",
       "      <td>Justin Roiland, Chris Parnell, Spencer Grammer...</td>\n",
       "      <td>414849.0</td>\n",
       "      <td>23.0</td>\n",
       "      <td>NaN</td>\n",
       "      <td>None</td>\n",
       "    </tr>\n",
       "    <tr>\n",
       "      <th>4</th>\n",
       "      <td>Army of Thieves</td>\n",
       "      <td>2021.0</td>\n",
       "      <td>Action, Crime, Horror</td>\n",
       "      <td>NaN</td>\n",
       "      <td>A prequel set before the events of Army of the...</td>\n",
       "      <td>Matthias Schweighöfer, Nathalie Emmanuel, Ruby...</td>\n",
       "      <td>NaN</td>\n",
       "      <td>NaN</td>\n",
       "      <td>NaN</td>\n",
       "      <td>Matthias Schweighöfer</td>\n",
       "    </tr>\n",
       "  </tbody>\n",
       "</table>\n",
       "</div>"
      ],
      "text/plain": [
       "                                movies    year                         genre  \\\n",
       "0                        Blood Red Sky  2021.0      Action, Horror, Thriller   \n",
       "1  Masters of the Universe: Revelation  2021.0  Animation, Action, Adventure   \n",
       "2                     The Walking Dead  2010.0       Drama, Horror, Thriller   \n",
       "3                       Rick and Morty  2013.0  Animation, Adventure, Comedy   \n",
       "4                      Army of Thieves  2021.0         Action, Crime, Horror   \n",
       "\n",
       "   rating                                           one-line  \\\n",
       "0     6.1  A woman with a mysterious illness is forced in...   \n",
       "1     5.0  The war for Eternia begins again in what may b...   \n",
       "2     8.2  Sheriff Deputy Rick Grimes wakes up from a com...   \n",
       "3     9.2  An animated series that follows the exploits o...   \n",
       "4     NaN  A prequel set before the events of Army of the...   \n",
       "\n",
       "                                               stars     votes  runtime gross  \\\n",
       "0  Peri Baumeister, Carl Anton Koch, Alexander Sc...   21062.0    121.0   NaN   \n",
       "1  Chris Wood, Sarah Michelle Gellar, Lena Headey...   17870.0     25.0   NaN   \n",
       "2  Andrew Lincoln, Norman Reedus, Melissa McBride...  885805.0     44.0   NaN   \n",
       "3  Justin Roiland, Chris Parnell, Spencer Grammer...  414849.0     23.0   NaN   \n",
       "4  Matthias Schweighöfer, Nathalie Emmanuel, Ruby...       NaN      NaN   NaN   \n",
       "\n",
       "                director  \n",
       "0        Peter Thorwarth  \n",
       "1                   None  \n",
       "2                   None  \n",
       "3                   None  \n",
       "4  Matthias Schweighöfer  "
      ]
     },
     "execution_count": 31,
     "metadata": {},
     "output_type": "execute_result"
    }
   ],
   "source": [
    "df['votes']=df['votes'].str.replace(',', '').astype(float)\n",
    "df.head()"
   ]
  },
  {
   "cell_type": "code",
   "execution_count": 32,
   "id": "dfef85af",
   "metadata": {
    "execution": {
     "iopub.execute_input": "2024-11-12T11:32:08.160628Z",
     "iopub.status.busy": "2024-11-12T11:32:08.160157Z",
     "iopub.status.idle": "2024-11-12T11:32:08.169801Z",
     "shell.execute_reply": "2024-11-12T11:32:08.168507Z"
    },
    "papermill": {
     "duration": 0.035611,
     "end_time": "2024-11-12T11:32:08.172581",
     "exception": false,
     "start_time": "2024-11-12T11:32:08.136970",
     "status": "completed"
    },
    "tags": []
   },
   "outputs": [
    {
     "data": {
      "text/plain": [
       "0    121.0\n",
       "1     25.0\n",
       "2     44.0\n",
       "3     23.0\n",
       "4      NaN\n",
       "Name: runtime, dtype: float64"
      ]
     },
     "execution_count": 32,
     "metadata": {},
     "output_type": "execute_result"
    }
   ],
   "source": [
    "# runtime\n",
    "df['runtime'].head()"
   ]
  },
  {
   "cell_type": "code",
   "execution_count": 33,
   "id": "46023e4d",
   "metadata": {
    "execution": {
     "iopub.execute_input": "2024-11-12T11:32:08.219719Z",
     "iopub.status.busy": "2024-11-12T11:32:08.219203Z",
     "iopub.status.idle": "2024-11-12T11:32:08.230927Z",
     "shell.execute_reply": "2024-11-12T11:32:08.229474Z"
    },
    "papermill": {
     "duration": 0.038337,
     "end_time": "2024-11-12T11:32:08.233796",
     "exception": false,
     "start_time": "2024-11-12T11:32:08.195459",
     "status": "completed"
    },
    "tags": []
   },
   "outputs": [
    {
     "data": {
      "text/plain": [
       "array([nan, '$75.47M', '$402.45M', '$89.22M', '$315.54M', '$57.01M',\n",
       "       '$260.00M', '$132.38M', '$167.77M', '$404.52M', '$15.07M',\n",
       "       '$70.10M', '$210.61M', '$327.48M', '$390.53M', '$303.00M',\n",
       "       '$56.63M', '$58.06M', '$353.01M', '$46.89M', '$7.00M', '$377.85M',\n",
       "       '$107.83M', '$403.71M', '$316.83M', '$100.55M', '$28.26M',\n",
       "       '$188.76M', '$213.52M', '$226.01M', '$408.08M', '$10.06M',\n",
       "       '$14.84M', '$168.05M', '$183.64M', '$342.55M', '$96.52M',\n",
       "       '$140.22M', '$172.56M', '$56.95M', '$330.36M', '$17.80M', '$0.20M',\n",
       "       '$56.82M', '$66.21M', '$75.61M', '$4.56M', '$106.58M', '$5.02M',\n",
       "       '$22.68M', '$102.92M', '$110.52M', '$504.01M', '$26.86M', '$2.00M',\n",
       "       '$32.73M', '$33.80M', '$400.74M', '$19.02M', '$36.26M', '$6.67M',\n",
       "       '$45.51M', '$75.66M', '$0.33M', '$4.00M', '$20.16M', '$95.86M',\n",
       "       '$176.48M', '$126.66M', '$80.10M', '$42.34M', '$0.04M', '$4.71M',\n",
       "       '$117.72M', '$229.09M', '$33.70M', '$97.69M', '$21.15M', '$27.85M',\n",
       "       '$25.02M', '$100.92M', '$0.80M', '$31.15M', '$143.53M', '$61.74M',\n",
       "       '$33.40M', '$24.45M', '$125.10M', '$12.79M', '$2.38M', '$136.19M',\n",
       "       '$101.03M', '$187.17M', '$158.35M', '$0.01M', '$34.02M', '$57.23M',\n",
       "       '$63.69M', '$5.20M', '$1.23M', '$10.21M', '$51.69M', '$123.48M',\n",
       "       '$60.46M', '$112.72M', '$73.10M', '$0.18M', '$152.90M', '$52.42M',\n",
       "       '$77.22M', '$54.76M', '$21.36M', '$44.82M', '$37.77M', '$218.97M',\n",
       "       '$486.30M', '$97.10M', '$18.34M', '$181.17M', '$0.10M', '$58.88M',\n",
       "       '$80.04M', '$38.32M', '$29.21M', '$11.11M', '$65.08M', '$67.63M',\n",
       "       '$89.30M', '$61.43M', '$59.65M', '$3.22M', '$81.90M', '$30.00M',\n",
       "       '$1.11M', '$18.64M', '$148.73M', '$156.65M', '$103.37M', '$35.66M',\n",
       "       '$8.55M', '$167.51M', '$12.63M', '$41.73M', '$41.23M', '$145.79M',\n",
       "       '$17.61M', '$1.36M', '$51.44M', '$25.13M', '$20.05M', '$36.67M',\n",
       "       '$26.83M', '$35.59M', '$15.50M', '$18.47M', '$58.01M', '$78.75M',\n",
       "       '$93.74M', '$10.38M', '$10.51M', '$368.06M', '$234.91M', '$18.60M',\n",
       "       '$89.26M', '$11.33M', '$101.20M', '$57.74M', '$24.15M', '$33.41M',\n",
       "       '$85.02M', '$21.30M', '$4.36M', '$16.17M', '$0.23M', '$94.90M',\n",
       "       '$0.03M', '$40.44M', '$15.09M', '$21.22M', '$32.02M', '$0.02M',\n",
       "       '$47.06M', '$214.03M', '$77.04M', '$15.43M', '$28.21M', '$0.50M',\n",
       "       '$12.05M', '$2.06M', '$44.14M', '$35.09M', '$1.94M', '$27.67M',\n",
       "       '$79.37M', '$39.18M', '$139.85M', '$88.92M', '$30.58M', '$0.12M',\n",
       "       '$10.88M', '$65.33M', '$1.21M', '$54.77M', '$32.94M', '$5.78M',\n",
       "       '$17.14M', '$0.28M', '$42.87M', '$5.21M', '$4.40M', '$46.91M',\n",
       "       '$0.08M', '$48.79M', '$15.54M', '$44.43M', '$57.39M', '$0.19M',\n",
       "       '$19.70M', '$58.02M', '$66.53M', '$92.12M', '$64.94M', '$0.00M',\n",
       "       '$6.74M', '$0.15M', '$42.40M', '$19.20M', '$35.07M', '$119.79M',\n",
       "       '$27.15M', '$30.69M', '$2.24M', '$4.72M', '$90.29M', '$0.77M',\n",
       "       '$0.51M', '$2.01M', '$14.90M', '$6.17M', '$1.00M', '$31.85M',\n",
       "       '$37.66M', '$30.98M', '$13.75M', '$5.88M', '$37.71M', '$219.61M',\n",
       "       '$4.54M', '$7.15M', '$15.01M', '$0.14M', '$1.51M', '$1.60M',\n",
       "       '$1.34M', '$0.70M', '$26.18M', '$1.16M', '$5.70M', '$10.64M',\n",
       "       '$2.68M', '$0.45M', '$1.04M', '$7.92M', '$20.28M', '$0.05M',\n",
       "       '$8.06M', '$1.25M', '$45.02M', '$1.52M', '$28.35M', '$36.45M',\n",
       "       '$1.08M', '$1.33M', '$3.90M', '$6.12M', '$43.04M', '$0.44M',\n",
       "       '$16.85M', '$5.66M', '$0.81M', '$0.34M', '$4.70M', '$11.55M',\n",
       "       '$5.93M', '$11.37M', '$0.09M', '$3.09M', '$49.77M', '$19.99M',\n",
       "       '$12.41M', '$4.83M', '$0.31M', '$43.55M', '$2.47M', '$0.48M',\n",
       "       '$0.26M', '$6.11M', '$0.76M', '$0.06M', '$0.30M', '$0.16M',\n",
       "       '$0.83M', '$0.59M', '$16.00M', '$5.31M', '$11.96M', '$0.22M',\n",
       "       '$0.54M', '$0.27M', '$0.11M', '$1.54M', '$3.03M', '$0.29M',\n",
       "       '$1.01M', '$3.25M', '$0.41M', '$0.17M', '$0.62M', '$23.59M',\n",
       "       '$25.58M', '$0.13M', '$0.87M', '$1.02M', '$0.56M', '$1.12M',\n",
       "       '$0.85M', '$1.80M', '$0.21M', '$2.83M', '$32.24M', '$0.07M',\n",
       "       '$0.24M', '$10.40M'], dtype=object)"
      ]
     },
     "execution_count": 33,
     "metadata": {},
     "output_type": "execute_result"
    }
   ],
   "source": [
    "# gross\n",
    "df['gross'].unique()"
   ]
  },
  {
   "cell_type": "code",
   "execution_count": 34,
   "id": "e6286d3b",
   "metadata": {
    "execution": {
     "iopub.execute_input": "2024-11-12T11:32:08.289000Z",
     "iopub.status.busy": "2024-11-12T11:32:08.287508Z",
     "iopub.status.idle": "2024-11-12T11:32:08.313704Z",
     "shell.execute_reply": "2024-11-12T11:32:08.312385Z"
    },
    "papermill": {
     "duration": 0.059351,
     "end_time": "2024-11-12T11:32:08.317199",
     "exception": false,
     "start_time": "2024-11-12T11:32:08.257848",
     "status": "completed"
    },
    "tags": []
   },
   "outputs": [],
   "source": [
    "# Function to convert to numeric by handling $ and M/K\n",
    "def convert_gross(value):\n",
    "    if pd.isna(value):  # Check if the value is NaN\n",
    "        return np.nan\n",
    "    value = value.replace('$', '').replace(',', '')\n",
    "    if 'M' in value:\n",
    "        return float(value.replace('M', '')) * 1_000_000\n",
    "    elif 'K' in value:\n",
    "        return float(value.replace('K', '')) * 1_000\n",
    "    return float(value)\n",
    "# Apply the conversion function to the 'gross' column\n",
    "df['gross'] = df['gross'].apply(convert_gross)"
   ]
  },
  {
   "cell_type": "markdown",
   "id": "9d155713",
   "metadata": {
    "papermill": {
     "duration": 0.021694,
     "end_time": "2024-11-12T11:32:08.364559",
     "exception": false,
     "start_time": "2024-11-12T11:32:08.342865",
     "status": "completed"
    },
    "tags": []
   },
   "source": [
    "Looks Good!"
   ]
  },
  {
   "cell_type": "markdown",
   "id": "51386511",
   "metadata": {
    "papermill": {
     "duration": 0.022554,
     "end_time": "2024-11-12T11:32:08.409129",
     "exception": false,
     "start_time": "2024-11-12T11:32:08.386575",
     "status": "completed"
    },
    "tags": []
   },
   "source": [
    "# Fill Null Values"
   ]
  },
  {
   "cell_type": "code",
   "execution_count": 35,
   "id": "0900cde2",
   "metadata": {
    "execution": {
     "iopub.execute_input": "2024-11-12T11:32:08.475733Z",
     "iopub.status.busy": "2024-11-12T11:32:08.475249Z",
     "iopub.status.idle": "2024-11-12T11:32:08.487631Z",
     "shell.execute_reply": "2024-11-12T11:32:08.485752Z"
    },
    "papermill": {
     "duration": 0.052331,
     "end_time": "2024-11-12T11:32:08.491830",
     "exception": false,
     "start_time": "2024-11-12T11:32:08.439499",
     "status": "completed"
    },
    "tags": []
   },
   "outputs": [],
   "source": [
    "# copy df\n",
    "df_copy = df.copy()"
   ]
  },
  {
   "cell_type": "code",
   "execution_count": 36,
   "id": "a07a06a8",
   "metadata": {
    "execution": {
     "iopub.execute_input": "2024-11-12T11:32:08.561686Z",
     "iopub.status.busy": "2024-11-12T11:32:08.560343Z",
     "iopub.status.idle": "2024-11-12T11:32:08.582256Z",
     "shell.execute_reply": "2024-11-12T11:32:08.580891Z"
    },
    "papermill": {
     "duration": 0.058551,
     "end_time": "2024-11-12T11:32:08.585319",
     "exception": false,
     "start_time": "2024-11-12T11:32:08.526768",
     "status": "completed"
    },
    "tags": []
   },
   "outputs": [
    {
     "name": "stdout",
     "output_type": "stream",
     "text": [
      "<class 'pandas.core.frame.DataFrame'>\n",
      "RangeIndex: 9999 entries, 0 to 9998\n",
      "Data columns (total 10 columns):\n",
      " #   Column    Non-Null Count  Dtype  \n",
      "---  ------    --------------  -----  \n",
      " 0   movies    9999 non-null   object \n",
      " 1   year      9251 non-null   float64\n",
      " 2   genre     9919 non-null   object \n",
      " 3   rating    8179 non-null   float64\n",
      " 4   one-line  9999 non-null   object \n",
      " 5   stars     9999 non-null   object \n",
      " 6   votes     8179 non-null   float64\n",
      " 7   runtime   7041 non-null   float64\n",
      " 8   gross     460 non-null    float64\n",
      " 9   director  5356 non-null   object \n",
      "dtypes: float64(5), object(5)\n",
      "memory usage: 781.3+ KB\n"
     ]
    }
   ],
   "source": [
    "df_copy.info()"
   ]
  },
  {
   "cell_type": "code",
   "execution_count": 37,
   "id": "00b073a0",
   "metadata": {
    "execution": {
     "iopub.execute_input": "2024-11-12T11:32:08.632470Z",
     "iopub.status.busy": "2024-11-12T11:32:08.632024Z",
     "iopub.status.idle": "2024-11-12T11:32:08.658946Z",
     "shell.execute_reply": "2024-11-12T11:32:08.656797Z"
    },
    "papermill": {
     "duration": 0.055761,
     "end_time": "2024-11-12T11:32:08.663307",
     "exception": false,
     "start_time": "2024-11-12T11:32:08.607546",
     "status": "completed"
    },
    "tags": []
   },
   "outputs": [
    {
     "data": {
      "text/plain": [
       "movies         0\n",
       "year         748\n",
       "genre         80\n",
       "rating      1820\n",
       "one-line       0\n",
       "stars          0\n",
       "votes       1820\n",
       "runtime     2958\n",
       "gross       9539\n",
       "director    4643\n",
       "dtype: int64"
      ]
     },
     "execution_count": 37,
     "metadata": {},
     "output_type": "execute_result"
    }
   ],
   "source": [
    "# copy clean df\n",
    "\n",
    "df_copy = df.copy()\n",
    "df_copy.isnull().sum()"
   ]
  },
  {
   "cell_type": "code",
   "execution_count": 38,
   "id": "5b686685",
   "metadata": {
    "execution": {
     "iopub.execute_input": "2024-11-12T11:32:08.716462Z",
     "iopub.status.busy": "2024-11-12T11:32:08.716023Z",
     "iopub.status.idle": "2024-11-12T11:32:08.730818Z",
     "shell.execute_reply": "2024-11-12T11:32:08.729564Z"
    },
    "papermill": {
     "duration": 0.043968,
     "end_time": "2024-11-12T11:32:08.735069",
     "exception": false,
     "start_time": "2024-11-12T11:32:08.691101",
     "status": "completed"
    },
    "tags": []
   },
   "outputs": [
    {
     "data": {
      "text/plain": [
       "0"
      ]
     },
     "execution_count": 38,
     "metadata": {},
     "output_type": "execute_result"
    }
   ],
   "source": [
    "# year\n",
    "df_copy['year']=df_copy['year'].fillna(df_copy['year'].median())\n",
    "df_copy['year'].isnull().sum()"
   ]
  },
  {
   "cell_type": "code",
   "execution_count": 39,
   "id": "26d24963",
   "metadata": {
    "execution": {
     "iopub.execute_input": "2024-11-12T11:32:08.785204Z",
     "iopub.status.busy": "2024-11-12T11:32:08.783725Z",
     "iopub.status.idle": "2024-11-12T11:32:08.794579Z",
     "shell.execute_reply": "2024-11-12T11:32:08.793021Z"
    },
    "papermill": {
     "duration": 0.03839,
     "end_time": "2024-11-12T11:32:08.797702",
     "exception": false,
     "start_time": "2024-11-12T11:32:08.759312",
     "status": "completed"
    },
    "tags": []
   },
   "outputs": [],
   "source": [
    "# genre\n",
    "df_copy['genre']=df_copy['genre'].mode()[0]"
   ]
  },
  {
   "cell_type": "code",
   "execution_count": 40,
   "id": "c88c6e7e",
   "metadata": {
    "execution": {
     "iopub.execute_input": "2024-11-12T11:32:08.845193Z",
     "iopub.status.busy": "2024-11-12T11:32:08.844720Z",
     "iopub.status.idle": "2024-11-12T11:32:08.854519Z",
     "shell.execute_reply": "2024-11-12T11:32:08.853363Z"
    },
    "papermill": {
     "duration": 0.036828,
     "end_time": "2024-11-12T11:32:08.857262",
     "exception": false,
     "start_time": "2024-11-12T11:32:08.820434",
     "status": "completed"
    },
    "tags": []
   },
   "outputs": [
    {
     "name": "stderr",
     "output_type": "stream",
     "text": [
      "/tmp/ipykernel_17/1076133807.py:2: FutureWarning: A value is trying to be set on a copy of a DataFrame or Series through chained assignment using an inplace method.\n",
      "The behavior will change in pandas 3.0. This inplace method will never work because the intermediate object on which we are setting values always behaves as a copy.\n",
      "\n",
      "For example, when doing 'df[col].method(value, inplace=True)', try using 'df.method({col: value}, inplace=True)' or df[col] = df[col].method(value) instead, to perform the operation inplace on the original object.\n",
      "\n",
      "\n",
      "  df_copy['rating'].fillna(df_copy['rating'].median(), inplace=True)\n"
     ]
    }
   ],
   "source": [
    "# rating\n",
    "df_copy['rating'].fillna(df_copy['rating'].median(), inplace=True)"
   ]
  },
  {
   "cell_type": "code",
   "execution_count": 41,
   "id": "0effeb56",
   "metadata": {
    "execution": {
     "iopub.execute_input": "2024-11-12T11:32:08.906394Z",
     "iopub.status.busy": "2024-11-12T11:32:08.905844Z",
     "iopub.status.idle": "2024-11-12T11:32:08.915221Z",
     "shell.execute_reply": "2024-11-12T11:32:08.914051Z"
    },
    "papermill": {
     "duration": 0.03808,
     "end_time": "2024-11-12T11:32:08.918164",
     "exception": false,
     "start_time": "2024-11-12T11:32:08.880084",
     "status": "completed"
    },
    "tags": []
   },
   "outputs": [
    {
     "name": "stderr",
     "output_type": "stream",
     "text": [
      "/tmp/ipykernel_17/1026261899.py:2: FutureWarning: A value is trying to be set on a copy of a DataFrame or Series through chained assignment using an inplace method.\n",
      "The behavior will change in pandas 3.0. This inplace method will never work because the intermediate object on which we are setting values always behaves as a copy.\n",
      "\n",
      "For example, when doing 'df[col].method(value, inplace=True)', try using 'df.method({col: value}, inplace=True)' or df[col] = df[col].method(value) instead, to perform the operation inplace on the original object.\n",
      "\n",
      "\n",
      "  df_copy['votes'].fillna(df_copy['votes'].median(), inplace=True)\n"
     ]
    }
   ],
   "source": [
    "# votes\n",
    "df_copy['votes'].fillna(df_copy['votes'].median(), inplace=True)"
   ]
  },
  {
   "cell_type": "code",
   "execution_count": 42,
   "id": "c2f3fc2d",
   "metadata": {
    "execution": {
     "iopub.execute_input": "2024-11-12T11:32:08.965100Z",
     "iopub.status.busy": "2024-11-12T11:32:08.964611Z",
     "iopub.status.idle": "2024-11-12T11:32:08.973650Z",
     "shell.execute_reply": "2024-11-12T11:32:08.972449Z"
    },
    "papermill": {
     "duration": 0.035382,
     "end_time": "2024-11-12T11:32:08.976287",
     "exception": false,
     "start_time": "2024-11-12T11:32:08.940905",
     "status": "completed"
    },
    "tags": []
   },
   "outputs": [
    {
     "name": "stderr",
     "output_type": "stream",
     "text": [
      "/tmp/ipykernel_17/2954820509.py:1: FutureWarning: A value is trying to be set on a copy of a DataFrame or Series through chained assignment using an inplace method.\n",
      "The behavior will change in pandas 3.0. This inplace method will never work because the intermediate object on which we are setting values always behaves as a copy.\n",
      "\n",
      "For example, when doing 'df[col].method(value, inplace=True)', try using 'df.method({col: value}, inplace=True)' or df[col] = df[col].method(value) instead, to perform the operation inplace on the original object.\n",
      "\n",
      "\n",
      "  df_copy['runtime'].fillna(df_copy['runtime'].median(), inplace=True)\n"
     ]
    }
   ],
   "source": [
    "df_copy['runtime'].fillna(df_copy['runtime'].median(), inplace=True)"
   ]
  },
  {
   "cell_type": "code",
   "execution_count": 43,
   "id": "4ba43f9c",
   "metadata": {
    "execution": {
     "iopub.execute_input": "2024-11-12T11:32:09.024796Z",
     "iopub.status.busy": "2024-11-12T11:32:09.023548Z",
     "iopub.status.idle": "2024-11-12T11:32:09.031614Z",
     "shell.execute_reply": "2024-11-12T11:32:09.030022Z"
    },
    "papermill": {
     "duration": 0.036698,
     "end_time": "2024-11-12T11:32:09.035542",
     "exception": false,
     "start_time": "2024-11-12T11:32:08.998844",
     "status": "completed"
    },
    "tags": []
   },
   "outputs": [
    {
     "name": "stderr",
     "output_type": "stream",
     "text": [
      "/tmp/ipykernel_17/3643681019.py:1: FutureWarning: A value is trying to be set on a copy of a DataFrame or Series through chained assignment using an inplace method.\n",
      "The behavior will change in pandas 3.0. This inplace method will never work because the intermediate object on which we are setting values always behaves as a copy.\n",
      "\n",
      "For example, when doing 'df[col].method(value, inplace=True)', try using 'df.method({col: value}, inplace=True)' or df[col] = df[col].method(value) instead, to perform the operation inplace on the original object.\n",
      "\n",
      "\n",
      "  df_copy['gross'].fillna(0, inplace=True)\n"
     ]
    }
   ],
   "source": [
    "df_copy['gross'].fillna(0, inplace=True)"
   ]
  },
  {
   "cell_type": "code",
   "execution_count": 44,
   "id": "77e4ff5b",
   "metadata": {
    "execution": {
     "iopub.execute_input": "2024-11-12T11:32:09.084944Z",
     "iopub.status.busy": "2024-11-12T11:32:09.084435Z",
     "iopub.status.idle": "2024-11-12T11:32:09.093339Z",
     "shell.execute_reply": "2024-11-12T11:32:09.091974Z"
    },
    "papermill": {
     "duration": 0.037966,
     "end_time": "2024-11-12T11:32:09.096944",
     "exception": false,
     "start_time": "2024-11-12T11:32:09.058978",
     "status": "completed"
    },
    "tags": []
   },
   "outputs": [
    {
     "name": "stderr",
     "output_type": "stream",
     "text": [
      "/tmp/ipykernel_17/52751969.py:1: FutureWarning: A value is trying to be set on a copy of a DataFrame or Series through chained assignment using an inplace method.\n",
      "The behavior will change in pandas 3.0. This inplace method will never work because the intermediate object on which we are setting values always behaves as a copy.\n",
      "\n",
      "For example, when doing 'df[col].method(value, inplace=True)', try using 'df.method({col: value}, inplace=True)' or df[col] = df[col].method(value) instead, to perform the operation inplace on the original object.\n",
      "\n",
      "\n",
      "  df_copy['director'].fillna('Unknown', inplace=True)\n"
     ]
    }
   ],
   "source": [
    "df_copy['director'].fillna('Unknown', inplace=True)"
   ]
  },
  {
   "cell_type": "code",
   "execution_count": 45,
   "id": "1d8d9f67",
   "metadata": {
    "execution": {
     "iopub.execute_input": "2024-11-12T11:32:09.146481Z",
     "iopub.status.busy": "2024-11-12T11:32:09.146004Z",
     "iopub.status.idle": "2024-11-12T11:32:09.164022Z",
     "shell.execute_reply": "2024-11-12T11:32:09.162697Z"
    },
    "papermill": {
     "duration": 0.046515,
     "end_time": "2024-11-12T11:32:09.166710",
     "exception": false,
     "start_time": "2024-11-12T11:32:09.120195",
     "status": "completed"
    },
    "tags": []
   },
   "outputs": [
    {
     "data": {
      "text/plain": [
       "movies      0\n",
       "year        0\n",
       "genre       0\n",
       "rating      0\n",
       "one-line    0\n",
       "stars       0\n",
       "votes       0\n",
       "runtime     0\n",
       "gross       0\n",
       "director    0\n",
       "dtype: int64"
      ]
     },
     "execution_count": 45,
     "metadata": {},
     "output_type": "execute_result"
    }
   ],
   "source": [
    "df_copy.isnull().sum()"
   ]
  },
  {
   "cell_type": "code",
   "execution_count": null,
   "id": "3f94b20c",
   "metadata": {
    "papermill": {
     "duration": 0.023075,
     "end_time": "2024-11-12T11:32:09.213130",
     "exception": false,
     "start_time": "2024-11-12T11:32:09.190055",
     "status": "completed"
    },
    "tags": []
   },
   "outputs": [],
   "source": []
  },
  {
   "cell_type": "code",
   "execution_count": null,
   "id": "ee489cd4",
   "metadata": {
    "papermill": {
     "duration": 0.023355,
     "end_time": "2024-11-12T11:32:09.260248",
     "exception": false,
     "start_time": "2024-11-12T11:32:09.236893",
     "status": "completed"
    },
    "tags": []
   },
   "outputs": [],
   "source": []
  },
  {
   "cell_type": "code",
   "execution_count": null,
   "id": "7cc2e8af",
   "metadata": {
    "papermill": {
     "duration": 0.022814,
     "end_time": "2024-11-12T11:32:09.306552",
     "exception": false,
     "start_time": "2024-11-12T11:32:09.283738",
     "status": "completed"
    },
    "tags": []
   },
   "outputs": [],
   "source": []
  }
 ],
 "metadata": {
  "kaggle": {
   "accelerator": "none",
   "dataSources": [
    {
     "datasetId": 1512088,
     "sourceId": 2497338,
     "sourceType": "datasetVersion"
    }
   ],
   "dockerImageVersionId": 30786,
   "isGpuEnabled": false,
   "isInternetEnabled": true,
   "language": "python",
   "sourceType": "notebook"
  },
  "kernelspec": {
   "display_name": "Python 3",
   "language": "python",
   "name": "python3"
  },
  "language_info": {
   "codemirror_mode": {
    "name": "ipython",
    "version": 3
   },
   "file_extension": ".py",
   "mimetype": "text/x-python",
   "name": "python",
   "nbconvert_exporter": "python",
   "pygments_lexer": "ipython3",
   "version": "3.10.14"
  },
  "papermill": {
   "default_parameters": {},
   "duration": 9.699631,
   "end_time": "2024-11-12T11:32:09.856429",
   "environment_variables": {},
   "exception": null,
   "input_path": "__notebook__.ipynb",
   "output_path": "__notebook__.ipynb",
   "parameters": {},
   "start_time": "2024-11-12T11:32:00.156798",
   "version": "2.6.0"
  }
 },
 "nbformat": 4,
 "nbformat_minor": 5
}
